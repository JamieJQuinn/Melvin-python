{
 "cells": [
  {
   "cell_type": "code",
   "execution_count": 41,
   "metadata": {},
   "outputs": [],
   "source": [
    "import cmath\n",
    "\n",
    "import numpy as np\n",
    "import matplotlib.pyplot as plt"
   ]
  },
  {
   "cell_type": "code",
   "execution_count": 87,
   "metadata": {},
   "outputs": [],
   "source": [
    "L_X = 10.0\n",
    "d = 2.0\n",
    "\n",
    "Re = 1e4\n",
    "S = 1e4\n",
    "\n",
    "h = 0.05\n",
    "pert_n = 1 # This is the wavenumber of the perturbation. It must be an integer.\n",
    "\n",
    "# N_X should be a power of 4 & N_Z a power of 2 for max speed (See Nvidia cuFFT manual)\n",
    "N_X = 4**4\n",
    "N_Z = 2**8"
   ]
  },
  {
   "cell_type": "code",
   "execution_count": 91,
   "metadata": {},
   "outputs": [
    {
     "name": "stdout",
     "output_type": "stream",
     "text": [
      "Horizontal N: 85\n",
      "Vertical N: 85\n",
      "dt: 5.5363321799307956e-05\n",
      "KH is unstable\n"
     ]
    }
   ],
   "source": [
    "L_Z = 2*d\n",
    "\n",
    "DX = L_X/(N_X-1)\n",
    "DZ = L_Z/(N_Z-1)\n",
    "\n",
    "N_N = int((N_X - 1)/3)\n",
    "N_M = int((N_Z - 1)/3)\n",
    "\n",
    "K_N = 2*np.pi/L_X\n",
    "K_M = 2*np.pi/L_Z\n",
    "\n",
    "DT = min(DX, DZ)**2 / 4 * 0.9\n",
    "\n",
    "ooRe = 1/Re\n",
    "ooS = 1/S\n",
    "\n",
    "print(\"Horizontal N:\", N_N)\n",
    "print(\"Vertical N:\", N_M)\n",
    "print(\"dt:\", DT)\n",
    "\n",
    "if h*pert_n*K_N < 1:\n",
    "    print(\"KH is unstable\")"
   ]
  },
  {
   "cell_type": "raw",
   "metadata": {},
   "source": [
    "z = np.linspace(-d, d, N_Z)\n",
    "j0 = 2*np.cos(z*K_M) - 2*np.sin(z*K_M) + 1\n",
    "\n",
    "# Take the fft from physical to spectral space (including normalisation)\n",
    "j0_fft = np.fft.rfft(j0)/N_Z\n",
    "# Take the inverse fft from spectral to physical space (including normalisation)\n",
    "j0_ifft = np.fft.irfft(j0_fft)*N_Z\n",
    "\n",
    "print(\"n=0 mode:\", j0_fft[0])\n",
    "print(\"n=1 mode:\", j0_fft[1])\n",
    "\n",
    "# Show input is same as inverse\n",
    "plt.plot(z, j0)\n",
    "plt.plot(z, j0_ifft)\n",
    "plt.show()"
   ]
  },
  {
   "cell_type": "code",
   "execution_count": 76,
   "metadata": {},
   "outputs": [],
   "source": [
    "def sech(x):\n",
    "    return 1/np.cosh(x)\n",
    "\n",
    "def p2s(M):\n",
    "    return downscale(np.fft.rfft2(M))/(N_Z*N_X)\n",
    "\n",
    "def s2p(M):\n",
    "    return np.fft.irfft2(upscale(M))*N_Z*N_X\n",
    "\n",
    "def ddx(var):\n",
    "    result = np.zeros_like(var)\n",
    "    result[1:-1] = (var[2:] - var[:-2])/(2*DX)\n",
    "    result[0, :] = (var[1, :] - var[-1, :])/(2*DX)\n",
    "    result[-1, :] = (var[0, :] - var[-2, :])/(2*DX)\n",
    "    return result\n",
    "\n",
    "def ddz(var):\n",
    "    result = np.zeros_like(var)\n",
    "    result[:,1:-1] = (var[:,2:] - var[:,:-2])/(2*DZ)\n",
    "    result[:,0] = (var[:,1] - var[:,-1])/(2*DZ)\n",
    "    result[:,-1] = (var[:,0] - var[:,-2])/(2*DZ)\n",
    "    return result\n",
    "\n",
    "def calc_nl(var, vx, vz):\n",
    "    result = ddx(var*vx) + ddz(var*vz)\n",
    "    return p2s(result)\n",
    "\n",
    "def upscale(M):\n",
    "    result = np.zeros((N_X, int(N_Z/2)), dtype=np.complex128)\n",
    "    result[:N_N+1, :N_M] = M[:N_N+1,:]\n",
    "    result[-N_N:,:N_M] = M[-N_N:,:]\n",
    "    return result\n",
    "                      \n",
    "def downscale(M):\n",
    "    result = np.zeros((N_N*2+1, N_M), dtype=np.complex128)\n",
    "    result[:N_N+1, :N_M] = M[:N_N+1, :N_M]\n",
    "    result[-N_N:, :N_M] = M[-N_N:, :N_M]\n",
    "    return result\n",
    "\n",
    "def plot_physical(M):\n",
    "    plt.imshow(M.T, extent=(0, L_X, -d, d))\n",
    "    plt.show()\n",
    "\n",
    "def plot_spectral(M):\n",
    "    var_p = s2p(M)\n",
    "    plot_physical(var_p)"
   ]
  },
  {
   "cell_type": "markdown",
   "metadata": {},
   "source": [
    "## Initial conditions"
   ]
  },
  {
   "cell_type": "markdown",
   "metadata": {},
   "source": [
    "The initial condition is a Harris sheet where the magnetic field is given by\n",
    "$$B_0(z) = tanh(z/h),$$\n",
    "where $h$ is some parameter setting the width of the sheet. Differentiating this to get the current gives\n",
    "$$j_0(z) = sech^2(z/h)/h.$$\n",
    "\n",
    "$\\omega_0$ is set to $0$"
   ]
  },
  {
   "cell_type": "code",
   "execution_count": 88,
   "metadata": {},
   "outputs": [
    {
     "name": "stdout",
     "output_type": "stream",
     "text": [
      "Current profile\n"
     ]
    },
    {
     "data": {
      "image/png": "[encoded data removed]",
      "text/plain": [
       "<Figure size 432x288 with 1 Axes>"
      ]
     },
     "metadata": {
      "needs_background": "light"
     },
     "output_type": "display_data"
    },
    {
     "name": "stdout",
     "output_type": "stream",
     "text": [
      "vorticity profile\n"
     ]
    },
    {
     "data": {
      "image/png": "[encoded data removed]",
      "text/plain": [
       "<Figure size 432x288 with 1 Axes>"
      ]
     },
     "metadata": {
      "needs_background": "light"
     },
     "output_type": "display_data"
    },
    {
     "data": {
      "image/png": "[encoded data removed]",
      "text/plain": [
       "<Figure size 432x288 with 1 Axes>"
      ]
     },
     "metadata": {
      "needs_background": "light"
     },
     "output_type": "display_data"
    },
    {
     "data": {
      "image/png": "[encoded data removed]",
      "text/plain": [
       "<Figure size 432x288 with 1 Axes>"
      ]
     },
     "metadata": {
      "needs_background": "light"
     },
     "output_type": "display_data"
    }
   ],
   "source": [
    "x = np.linspace(0, L_X, N_X)\n",
    "z = np.linspace(-d, d, N_Z)\n",
    "X, Z = np.meshgrid(x, z, indexing='ij')\n",
    "# j0_p = np.power(sech(Z/h), 2)/h\n",
    "j0_p = X*0\n",
    "# w0_p = X*0\n",
    "w0_p = np.power(sech(Z/h), 2)/h\n",
    "\n",
    "epsilon = 1e-1\n",
    "\n",
    "# j0_p += epsilon*np.sin(X*h*k)\n",
    "w0_p += epsilon*np.cos(pert_n*X*K_N)\n",
    "\n",
    "print(\"Current profile\")\n",
    "plt.plot(z, j0_p[0])\n",
    "plt.show()\n",
    "\n",
    "print(\"vorticity profile\")\n",
    "plt.plot(z, w0_p[0])\n",
    "plt.show()\n",
    "\n",
    "w0 = p2s(w0_p)\n",
    "j0 = p2s(j0_p)\n",
    "plot_spectral(w0)\n",
    "plot_spectral(j0)"
   ]
  },
  {
   "cell_type": "code",
   "execution_count": 89,
   "metadata": {},
   "outputs": [],
   "source": [
    "# Create mode number matrix\n",
    "n = np.concatenate((np.arange(0, N_N+1),  np.arange(-N_N, 0)))\n",
    "m = np.arange(0, N_M)\n",
    "n, m = np.meshgrid(n, m, indexing='ij')\n",
    "\n",
    "lap = -((n*K_N)**2 + (m*K_M)**2)\n",
    "lap[0,0] = 1\n",
    "\n",
    "w = np.copy(w0)\n",
    "j = np.copy(j0)\n",
    "\n",
    "dw_prev = np.zeros_like(w)\n",
    "dj_prev = np.zeros_like(j)\n",
    "\n",
    "kes = []\n",
    "\n",
    "T = 1.0\n",
    "\n",
    "t = 0\n",
    "while t < T:\n",
    "    psi = -w/lap\n",
    "#     phi = -j/lap\n",
    "    psi[0,0] = phi[0,0] = 0\n",
    "\n",
    "    w_p = s2p(w)\n",
    "#     j_p = s2p(j)\n",
    "\n",
    "    psi_p = s2p(psi)\n",
    "#     phi_p = s2p(phi)\n",
    "\n",
    "    ux_p = ddz(psi_p)\n",
    "    uz_p = -ddx(psi_p)\n",
    "\n",
    "    kes += [0.5*np.sum(ux_p**2 + uz_p**2)/(N_X*N_Z)]\n",
    "\n",
    "#     bx_p = ddz(phi_p)\n",
    "#     bz_p = -ddx(phi_p)\n",
    "\n",
    "    dw_curr = -calc_nl(w_p, ux_p, uz_p) + ooRe*lap*w\n",
    "    \n",
    "#     dw_curr = -calc_nl(w_p, ux_p, uz_p) + calc_nl(j_p, bx_p, bz_p) + ooRe*lap*w\n",
    "#     dj_curr = -calc_nl(j_p, ux_p, uz_p) + calc_nl(w_p, bx_p, bz_p) + ooS*lap*j\n",
    "\n",
    "    w += DT/2*(3*dw_curr - dw_prev)\n",
    "#     j += DT/2*(3*dj_curr - dj_prev)\n",
    "\n",
    "    t += DT"
   ]
  },
  {
   "cell_type": "code",
   "execution_count": 94,
   "metadata": {},
   "outputs": [
    {
     "data": {
      "image/png": "[encoded data removed]",
      "text/plain": [
       "<Figure size 432x288 with 1 Axes>"
      ]
     },
     "metadata": {
      "needs_background": "light"
     },
     "output_type": "display_data"
    },
    {
     "data": {
      "image/png": "[encoded data removed]",
      "text/plain": [
       "<Figure size 432x288 with 1 Axes>"
      ]
     },
     "metadata": {
      "needs_background": "light"
     },
     "output_type": "display_data"
    },
    {
     "data": {
      "image/png": "[encoded data removed]",
      "text/plain": [
       "<Figure size 432x288 with 1 Axes>"
      ]
     },
     "metadata": {
      "needs_background": "light"
     },
     "output_type": "display_data"
    }
   ],
   "source": [
    "plt.plot(kes)\n",
    "plt.show()\n",
    "\n",
    "# plot_physical(psi_p)\n",
    "# plot_physical(np.roll(psi_p, int(N_X/2), 0))\n",
    "\n",
    "# plot_physical(ux_p)\n",
    "# plot_physical(uz_p)\n",
    "# plot_physical(np.roll(uz_p, int(N_X/2), 0))\n",
    "\n",
    "plot_spectral(w)\n",
    "plot_spectral(j)"
   ]
  },
  {
   "cell_type": "code",
   "execution_count": null,
   "metadata": {},
   "outputs": [],
   "source": []
  }
 ],
 "metadata": {
  "kernelspec": {
   "display_name": "Python 3",
   "language": "python",
   "name": "python3"
  },
  "language_info": {
   "codemirror_mode": {
    "name": "ipython",
    "version": 3
   },
   "file_extension": ".py",
   "mimetype": "text/x-python",
   "name": "python",
   "nbconvert_exporter": "python",
   "pygments_lexer": "ipython3",
   "version": "3.8.5"
  }
 },
 "nbformat": 4,
 "nbformat_minor": 4
}
